{
 "cells": [
  {
   "cell_type": "code",
   "execution_count": 1,
   "metadata": {
    "collapsed": true
   },
   "outputs": [],
   "source": [
    "import pandas as pd\n",
    "import numpy as np"
   ]
  },
  {
   "cell_type": "code",
   "execution_count": 2,
   "metadata": {
    "collapsed": true
   },
   "outputs": [],
   "source": [
    "## 雞肋公式沒卵用\n",
    "## arg1: dataframe -- diary\n",
    "## arg2: str -- desired column\n",
    "## return: dataframe -- index=unique values in the columns; freq=frequency of each value\n",
    "def var_freq(df,colName):\n",
    "    varSer=df[colName].dropna().value_counts()\n",
    "    varDF=pd.DataFrame(varSer)\n",
    "    varDF.rename(columns={colName:'freq'},inplace=True)\n",
    "    varDF.index.name=colName\n",
    "    return varDF"
   ]
  },
  {
   "cell_type": "code",
   "execution_count": 22,
   "metadata": {
    "collapsed": true
   },
   "outputs": [],
   "source": [
    "## data= dataframe -- from hand typed csv\n",
    "## export a csv of nodes and a csv of edges\n",
    "## return\n",
    "def to_graph(diary,path):\n",
    "    ## clean the data\n",
    "    diary.dropna(axis=[0,1],how='all',inplace=True)\n",
    "    \n",
    "    ## make people-event DataFrame\n",
    "    ppl_event=diary[['Type','Participants']].dropna(subset=['Participants'])\n",
    "    \n",
    "    #### make event index\n",
    "    event_iter=0\n",
    "    event_idx=[]\n",
    "    for boo in ppl_event['Type'].notnull():\n",
    "        if boo:\n",
    "            event_iter+=1\n",
    "        event_idx.append(event_iter)\n",
    "    \n",
    "    ppl_event[\"Event\"]=event_idx\n",
    "    \n",
    "    ## make a series of unique names as the index and columns of the adjacency matrix\n",
    "    ppl_uniq=pd.Series(ppl_event['Participants'].value_counts().index).append(pd.Series(\"謝蘭生\"),ignore_index=True)\n",
    "    ppl_df=pd.DataFrame(ppl_uniq).set_index(0)\n",
    "    #### export a csv of people as nodes\n",
    "    ppl_df.to_csv(path+'/pplNodes.csv')\n",
    "    \n",
    "    ## initialize the adjacency matrix\n",
    "    AdjMa=ppl_df.join(ppl_df.T,how='outer').fillna(0)\n",
    "    \n",
    "    ## Count frequency from event\n",
    "    event=ppl_event.set_index('Event').drop('Type',axis=1)\n",
    "    for i in np.arange(1,event_iter):\n",
    "        if len(event.ix[i])>1:\n",
    "            df=event.ix[i].set_index('Participants')\n",
    "            AdjMa.ix[df.index,df.index]+=1\n",
    "        i+=1\n",
    "    #### diagonal -- 0\n",
    "    np.fill_diagonal(AdjMa.values,0)\n",
    "    #### for 謝蘭生\n",
    "    freq=np.append(ppl_event['Participants'].value_counts().values,0)\n",
    "    AdjMa[\"謝蘭生\"]=freq\n",
    "    AdjMa.ix[\"謝蘭生\"]=freq\n",
    "    ## export a csv of Adjacency Matrix\n",
    "    AdjMa.to_csv(path+'/AdjMa.csv')\n",
    "    \n",
    "    \n",
    "    return"
   ]
  },
  {
   "cell_type": "code",
   "execution_count": 6,
   "metadata": {
    "collapsed": true
   },
   "outputs": [],
   "source": [
    "diary=pd.read_csv(\"/Users/yumeng.zou/Google Drive/Freshyear/Summer/Research/1819 diary.csv\")"
   ]
  },
  {
   "cell_type": "code",
   "execution_count": 23,
   "metadata": {
    "collapsed": false
   },
   "outputs": [],
   "source": [
    "to_graph(diary,\"/Users/yumeng.zou/Downloads\")"
   ]
  },
  {
   "cell_type": "code",
   "execution_count": null,
   "metadata": {
    "collapsed": true
   },
   "outputs": [],
   "source": []
  }
 ],
 "metadata": {
  "kernelspec": {
   "display_name": "Python 2",
   "language": "python",
   "name": "python2"
  },
  "language_info": {
   "codemirror_mode": {
    "name": "ipython",
    "version": 2
   },
   "file_extension": ".py",
   "mimetype": "text/x-python",
   "name": "python",
   "nbconvert_exporter": "python",
   "pygments_lexer": "ipython2",
   "version": "2.7.13"
  }
 },
 "nbformat": 4,
 "nbformat_minor": 2
}
